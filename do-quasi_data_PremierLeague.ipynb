{
 "cells": [
  {
   "cell_type": "code",
   "execution_count": 1,
   "metadata": {},
   "outputs": [],
   "source": [
    "import pandas as pd\n",
    "import numpy as np\n",
    "\n",
    "import warnings\n",
    "warnings.filterwarnings('ignore')\n",
    "\n",
    "import socceraction\n",
    "\n",
    "from statsbombpy import sb"
   ]
  },
  {
   "cell_type": "code",
   "execution_count": 2,
   "metadata": {},
   "outputs": [
    {
     "data": {
      "text/plain": [
       "((1142969, 46), (1142969, 2))"
      ]
     },
     "execution_count": 2,
     "metadata": {},
     "output_type": "execute_result"
    }
   ],
   "source": [
    "X = pd.read_csv('data/X_1516_PremierLeague.csv', index_col=0)\n",
    "# pd.Series({i: X[i].dtype for i in X.columns}) # 检查数据格式，都正确\n",
    "Y = pd.read_csv('data/Y_1516_PremierLeague.csv', index_col=0)\n",
    "\n",
    "X.shape, Y.shape"
   ]
  },
  {
   "cell_type": "markdown",
   "metadata": {},
   "source": [
    "### 重新设计样本特征集（xG化为01二元因变量，并加入权重）"
   ]
  },
  {
   "cell_type": "markdown",
   "metadata": {},
   "source": [
    "#### 1 score"
   ]
  },
  {
   "cell_type": "code",
   "execution_count": 3,
   "metadata": {},
   "outputs": [
    {
     "name": "stdout",
     "output_type": "stream",
     "text": [
      "80205 1061673 1091\n"
     ]
    },
    {
     "data": {
      "text/plain": [
       "((1223174, 46), (1223174,), (1223174,))"
      ]
     },
     "execution_count": 3,
     "metadata": {},
     "output_type": "execute_result"
    }
   ],
   "source": [
    "score_xG_index = Y[(Y['scores'] > 0) & (Y['scores'] < 1)].index\n",
    "score_0_index = Y[Y['scores'] == 0].index\n",
    "score_1_index = Y[Y['scores'] == 1].index\n",
    "print(len(score_xG_index), len(score_0_index), len(score_1_index))\n",
    "\n",
    "X_score = pd.concat([X.loc[score_0_index], X.loc[score_1_index],\n",
    "                     X.loc[score_xG_index], X.loc[score_xG_index]], ignore_index=True)\n",
    "Y_score = np.concatenate([np.zeros(len(score_0_index)), np.ones(len(score_1_index)),\n",
    "                          np.zeros(len(score_xG_index)), np.ones(len(score_xG_index))])\n",
    "weight_score = np.concatenate([np.ones(len(score_0_index) + len(score_1_index)),\n",
    "                               1 - Y.loc[score_xG_index, 'scores'].values,\n",
    "                               Y.loc[score_xG_index, 'scores'].values])\n",
    "\n",
    "X_score.shape, Y_score.shape, weight_score.shape"
   ]
  },
  {
   "cell_type": "markdown",
   "metadata": {},
   "source": [
    "#### 2 concede"
   ]
  },
  {
   "cell_type": "code",
   "execution_count": 4,
   "metadata": {},
   "outputs": [
    {
     "name": "stdout",
     "output_type": "stream",
     "text": [
      "12116 1130713 140\n"
     ]
    },
    {
     "data": {
      "text/plain": [
       "((1155085, 46), (1155085,), (1155085,))"
      ]
     },
     "execution_count": 4,
     "metadata": {},
     "output_type": "execute_result"
    }
   ],
   "source": [
    "concede_xG_index = Y[(Y['concedes'] > 0) & (Y['concedes'] < 1)].index\n",
    "concede_0_index = Y[Y['concedes'] == 0].index\n",
    "concede_1_index = Y[Y['concedes'] == 1].index\n",
    "print(len(concede_xG_index), len(concede_0_index), len(concede_1_index))\n",
    "\n",
    "X_concede = pd.concat([X.loc[concede_0_index], X.loc[concede_1_index],\n",
    "                       X.loc[concede_xG_index], X.loc[concede_xG_index]], ignore_index=True)\n",
    "Y_concede = np.concatenate([np.zeros(len(concede_0_index)), np.ones(len(concede_1_index)),\n",
    "                            np.zeros(len(concede_xG_index)), np.ones(len(concede_xG_index))])\n",
    "weight_concede = np.concatenate([np.ones(len(concede_0_index) + len(concede_1_index)),\n",
    "                                 1 - Y.loc[concede_xG_index, 'concedes'].values,\n",
    "                                 Y.loc[concede_xG_index, 'concedes'].values])\n",
    "\n",
    "X_concede.shape, Y_concede.shape, weight_concede.shape"
   ]
  },
  {
   "cell_type": "code",
   "execution_count": 5,
   "metadata": {},
   "outputs": [],
   "source": [
    "Y_score = pd.Series(Y_score, name='scores')\n",
    "Y_concede = pd.Series(Y_concede, name='concedes')\n",
    "weight_score = pd.Series(weight_score, name='weight')\n",
    "weight_concede = pd.Series(weight_concede, name='weight')\n",
    "\n",
    "X_score.to_csv('data/X_PremierLeague_score.csv')\n",
    "Y_score.to_csv('data/Y_PremierLeague_score.csv')\n",
    "weight_score.to_csv('data/weight_PremierLeague_score.csv')\n",
    "X_concede.to_csv('data/X_PremierLeague_concede.csv')\n",
    "Y_concede.to_csv('data/Y_PremierLeague_concede.csv')\n",
    "weight_concede.to_csv('data/weight_PremierLeague_concede.csv')"
   ]
  }
 ],
 "metadata": {
  "kernelspec": {
   "display_name": "env1-py311-socceraction",
   "language": "python",
   "name": "python3"
  },
  "language_info": {
   "codemirror_mode": {
    "name": "ipython",
    "version": 3
   },
   "file_extension": ".py",
   "mimetype": "text/x-python",
   "name": "python",
   "nbconvert_exporter": "python",
   "pygments_lexer": "ipython3",
   "version": "3.11.11"
  }
 },
 "nbformat": 4,
 "nbformat_minor": 2
}
